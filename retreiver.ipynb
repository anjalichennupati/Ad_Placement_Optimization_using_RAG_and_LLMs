{
 "cells": [
  {
   "cell_type": "code",
   "execution_count": 71,
   "metadata": {},
   "outputs": [],
   "source": [
    "from langchain_community.document_loaders import PyPDFLoader\n",
    "\n",
    "loader= PyPDFLoader('ad_pdf.pdf')\n",
    "\n",
    "docs=loader.load()"
   ]
  },
  {
   "cell_type": "code",
   "execution_count": 72,
   "metadata": {},
   "outputs": [
    {
     "data": {
      "text/plain": [
       "[Document(page_content=' \\n   \\n   \\n2.1.1  Introduction  \\nThe advertising of Coca -Cola has historically been among the most ingenious and creative in \\nthe marketing history. They integrated component of mass media used by Coca -Cola includes \\ntelevision advertising, banner ads, print advertising, direct marketing, w eb based interactive, \\nsales promotion, social media marketing and experience based marketing.  \\nIn 2011, Coca Cola completed 125 years. They wanted to celebrate their anniversary by doing \\nsomething different that was never tried before along with their coverage of traditional and digital mediums. Obscura Digital, a San Francisco -based technology lab and creative agency \\ndesigned and executed something which was really impressive!!!  \\nOn May 6, 2011, the Coca -Cola headquarters tower (a 26 -story tall building) in  Atlanta was \\nilluminated, showcasing a spectacular vision of the glorious 125 years and a “Thank You” \\nmessage for millions of customers who made it happen.  \\nCoca -Cola celebrated their anniversary in style.  \\nA few interesting facts about the massive campaign  for Coke’s 125th year are given below:  \\n1. The event projected the imagery from a library of 125 years of Coke’s advertising, \\nalong with the iconic Coke bottle featured in 3D across the 26 stories of the building.  \\n2. The projection covered an area of 157 feet i n width and 339 feet in height. The \\nprojection surface area from all 4 sides of the building was 210, 0000 sq. feet, making \\nit the world’s largest single building illumination.  \\n3. Obscura Digital created and executed the visual design and projections. They us ed 45 \\nprojectors (20,000 lumen each) approximately 1 million lumen of light were \\nsimultaneously projected on to the building.  \\n4. The event also showcased the pics uploaded by the Coca -Cola Facebook fans around \\nthe world. Throughout their anniversary month, th e consumers who uploaded their \\nfavourite Coca -Cola pics on the Facebook page were included in the show.  \\n \\n \\n44 \\n  ', metadata={'source': 'ad_pdf.pdf', 'page': 0}),\n",
       " Document(page_content=' \\n   \\n   \\n \\nFigure 2.1.1: Coca -Cola’s Campaign for completing 125 Years of Success  \\nThe above snippet highlights how Coca -Cola used an Integrated Marketing Communication \\nCampaign to say “Thank You” to their consumers for the magnificent 125 years of success.  \\nAdvertising is a complex form of communication. Businesses have found many different ways \\nto communicate their message to the consumer. Modern advertiser s have an array of choices \\nat their disposal. The Internet alone provides many options to the advertisers to reach out to their prospective customers. The most suitable advertising choice depends on the target audience and the most cost- effective way to reach them. For instance, if a company knows \\nthat the target market prefers to read a particular magazine or newspaper, then they should advertise in that publication.  \\nSuccessful advertising campaigns spread the information about a brand, attract prospectiv e \\ncustomers and generate sales. In this chapter, we will take a look on the different types of advertisements where a brand can be advertised.  \\n \\n2.1.2  Classification of Advertising on the Basis of \\nConsumers  \\n(i) Classified Advertising  \\nThis is a form of advertising where small messages are grouped under a specific heading or \\nclassification such as employment, real estate, automobiles and others. These are very common in newspapers, magazines and other periodicals. Classified advertisemen ts are \\ncheaper in comparison to large display ads used by businesses. These ads are typically short, \\n \\n \\n45 \\n  ', metadata={'source': 'ad_pdf.pdf', 'page': 1}),\n",
       " Document(page_content=' \\n   \\n   \\nas they are charged based on per line. These are not widespread as large display ads. They do \\nnot include any graphics.  \\n \\nFigure 2.1.2: An Example of Class ified Advertising  \\n \\nFigure 2.1.3: Another Example of Classified Advertising  \\n(ii) Display Advertising  \\nDisplay advertising basically appears in websites. These advertisements can be in different formats and they have items such as text, images, flash, audio, vide os etc. The first banner \\ndisplay on the Internet was on October 27th, 1994. The basic objective of display ads is to deliver brand messages to the site visitors. eMarketer has estimated that Facebook and Twitter may account for 33% of display ad spending market share by 2017.  \\n \\n \\n \\n46 \\n  ', metadata={'source': 'ad_pdf.pdf', 'page': 2}),\n",
       " Document(page_content=' \\n   \\n   \\n \\nFigure 2.1.4: An Example of Display Advertising  \\n(iii) Co-operative Advertising  \\nCo-operative advertising is an agreement between a manufacturer and a distribution chain \\nmember (distributor, wholesaler or retailer). The manufacturer contributes a fixed sum or \\nshares a certain percentage of the member’s advertising. It can also be an agreement between two or more marketers who have complementary products (such as footwear and socks) or different seasonal sales cycles (such as winter co ats and raincoats) to promote or sell each \\nother’s products with their own.  \\nCooperative advertising serves as a unique and powerful tool for small businesses, especially for those who have limited means to support the advertising campaigns required for the  \\nsurvival and success of the business. The joint efforts of marketers in such cooperative agreements broaden the scope of distribution and the quality of advertising campaign. Such kind of advertising helps small companies to link their names with the ones  which are \\nnationally recognised. Smaller companies or start -ups use this type of advertising to attract \\nloyal customers of popular brands.  \\nGiven so many benefits, cooperative advertisements have few drawbacks as well. Small business houses should complet ely understand the commitment involved before finalising the \\nagreement. Sometimes huge corporate giants may demand for high level of quality or certain style of advertising which may be difficult to achieve in a limited budget. Figure 2.1.5 shows  \\nan exampl e of co -operative advertising between Coca -Cola and Mc Donald’s. In case of co -\\n \\n \\n47 \\n  ', metadata={'source': 'ad_pdf.pdf', 'page': 3}),\n",
       " Document(page_content=' \\n   \\n   \\noperative advertising, sharing the cost of advertisement for their mutual benefit is a common \\npractice.  \\n \\nFigure 2.1.5: An Example of Co- operative Advertising  \\n(iv) End Product Advertising  \\nProduct advertising is any form of communication about the promotion of any product or service through which potential customers are convinced to purchase the product. The basic objective of product advertising is to increase brand awareness and demonstrat e the \\ndifferences between the product and its competitors. A good advertising campaign educates the potential buyers on why they might need the product, how can they use it and what benefits they will receive.  \\nMarket research is usually conducted to obtai n information such as the requirements of the \\ntarget audience, factors which influence the buying decisions, preferred media to distribute the information about the product. The collected data is then used to write an advertisement \\nmessage and convince the  potential buyers to buy the product. For example , as shown in \\nfigure 2.1.6 Heinz uses superior quality of tomatoes to prepare ketchup than their \\ncompetitors.  \\n \\n \\n48 \\n  ', metadata={'source': 'ad_pdf.pdf', 'page': 4}),\n",
       " Document(page_content=' \\n   \\n   \\n \\nFigure 2.1.6: An Example of End Product Advertising \\n(v) Direct Response Advertising  \\nDirect response advertising attempts to remind customers about the product and services \\noffered by a particular brand. The basic idea here is that more times an advertisement is projected, it stays in the top of mind consciousness for the customer and they  are likely to \\nmake a purchase decision. This is an effective way of advertising; however, it’s a costly affair \\nfor the sponsor to successfully pull the target audience. The time and expenses involved in \\nsuch advertisements are not a problem for big brands  as they have massive advertising \\nbudgets and product lines are planned in advance. The small businesses face budget constraints when they try to imitate big brands in this type of marketing. Direct response marketing evokes an immediate response and compels the target audience to take some specific actions. Direct response advertising is trackable, measurable and targets a specific audience.  \\n \\n \\n49 \\n  ', metadata={'source': 'ad_pdf.pdf', 'page': 5}),\n",
       " Document(page_content=' \\n   \\n   \\n \\nFigure 2.1.7: An Example of Direct Response Advertising  \\n \\nSelf-assessment Questions  \\n1) Advertising is a ___________ form of communication.  \\na) Simple      b) Easy    \\nc) Complex    d) Effortless  \\n \\n2) __________ is trackable, measurable and targets a specific audience.  \\na) Classified advertising    b) Co-operative advertising \\nc) End product advertising  d) Direct  response advertising  \\n \\n3) _______ is an agreement between a manufacturer and a distribution chain member.  \\na) Co-operative advertising  b) Classified advertising   \\nc) End product advertising  d) Direct response advertising  \\n \\n4) ______________ is cheaper in comparison to large display ads used by businesses.  \\na) Direct response advertising   b) Classified advertising   \\nc) End product advertising  d) Co-operative advertising \\n \\n \\n \\n50 \\n  ', metadata={'source': 'ad_pdf.pdf', 'page': 6}),\n",
       " Document(page_content=' \\n   \\n   \\n2.1.3  Classification of Advertising on the Basis of \\nMedia \\n(i) Print Media Advertising  \\nEarlier, print media use to be a huge driver of sales. The recent digital forms of advertising \\nhave forced print media to take a backseat. A print media can be typically split into these \\nthree sub categories.  \\na. Periodical Advertising:  Periodical advertising refers to  advertisements which are \\npublished in magazines, newspapers or any publication that comes out at regular \\nintervals.  \\n \\nFigure 2.1.8: An Example of Periodical Advertising \\nCompanies always attempted to grab the centre spread, front or the back cover of any popular magazine or newspaper.  \\nb. Brochures, Leaflets, Handouts, Flyers and Point of Sale Advertising: As brochures, \\nleaflets, handouts, flyers etc. are usually placed withi n pages of newspapers and \\nmagazines; they are treated as a separate entity.  \\n \\n \\n51 \\n  ', metadata={'source': 'ad_pdf.pdf', 'page': 7}),\n",
       " Document(page_content=' \\n   \\n   \\n \\nFigure 2.1.9: An Example of Brochure and Leaflet Advertising  \\nc. Direct Mail Advertising: Direct mail advertising refers to printed ads being mailed \\ndirectly to the consumers. This t echnique is considered to be ‘inferior’ and ‘junk’. \\nHowever, if it is done creatively and intelligently, it’s a fantastic way of customer \\nengagement.  \\n \\nFigure 2.1.10: An Example of Direct Mail Advertising \\n(ii) Broadcast Media Advertising  \\nBroadcast media advertising includes television and radio advertising. It was one of the most \\ndominant ways to reach a large group of consumers. Broadcast advertising has taken a back seat from last few years due to the rise in “digital video recorder” and “ad skipping” technologies. However, it is still a popular way to reach millions of people.  \\n \\n \\n \\n52 \\n  ', metadata={'source': 'ad_pdf.pdf', 'page': 8}),\n",
       " Document(page_content=' \\n   \\n   \\n \\nFigure 2.1.11: An Example of Broadcast Media Advertising \\n(iii) Outdoor Media Advertising  \\nOutdoor media advertising refers to billboards, bus shelter posters, fly posters, digital posters \\netc. This type of advertising is also known as out -of-home advertising as these ads reach out \\nto consumers when they are outside home.  \\n \\nFigure 2.1.12: An Example of Outdoor Media Advertising \\n \\n \\n53 \\n  ', metadata={'source': 'ad_pdf.pdf', 'page': 9}),\n",
       " Document(page_content=' \\n   \\n   \\n \\nFigure 2.1.13: An Example of Outdoor Media Advertising \\n(iv) Digital Media Advertising  \\nAny advertisement which appears via the Internet or online is known as digital media \\nadvertising. Digital advertising has evolved rapidly in the last 15 years and market leaders have realised the importance and the complexity it poses.  \\n \\nFigure 2.1.14: An Example of Digital Media Advertising  \\n \\n \\n54 \\n  ', metadata={'source': 'ad_pdf.pdf', 'page': 10}),\n",
       " Document(page_content=' \\n   \\n   \\nThrough digital advertising, campaigns can reach a large set of target audience. It is not only a \\ncost-effective medium of communication but also has a higher return over investment. \\nBusinesse s scale at a faster pace through digital advertising. Digital marketers should \\npromptly respond and initiate dynamic customer interactions and extract value from big data \\nto make better decisions faster. Digital advertising gives the flexibility to the mar keters to \\ncommunicate with customers wherever and however customers are most receptive to messages.  \\n \\n \\nSelf-assessment Questions  \\n5) _________refers to advertisements which are published in magazines or newspapers.  \\na) Digital media advertising  b) Periodical advertising \\nc) Outdoor advertising   d) Broadcast media advertising  \\n \\n6) _____________includes televisions and radio advertising.  \\na) Outdoor advertising   b) Digital media advertising   \\nc) Broadcast media advertising   d) Periodical advertising  \\n \\n7) ___________ has evolved rapidly in the last 15 years and the market leaders have \\nrealised the importance and the complexity it poses.   \\na) Digital Advertising    b) Broadcast media advertising   \\nc) Outdoor advertising   d) Direct mail advertising  \\n \\n8) ______________ is considered to be ‘inferior’ and ‘junk’.  \\na) Outdoor advertising    b) Broadcast media advertising  \\nc) Periodical advertising    d) Direct mail advertising  \\n \\n \\n \\n \\n55 \\n  ', metadata={'source': 'ad_pdf.pdf', 'page': 11}),\n",
       " Document(page_content=' \\n   \\n   \\n2.1.4  Classification of Advertising on the Basis of \\nBusiness/Advertiser   \\n(i) Trade Advertising  \\nTrade advertising is carried out by a producer, directed towards the wholesalers, distributors \\nand traders rather than the end consumer of the product. Trade advertising is strategically \\nimportant as it establishes good relations with the traders, wholesalers and distributors associated with the selling of a company’s brands. The advantage of trade advertising is that it is cost -effective and provides a better means to communicate with the target audience. Trade \\nadvertisements create an image in the trader’s mind, which eventually compels him/her to approach the company to sell its product. These advertisements are specially done in specific \\nmediums and journals.  \\n \\nFigure 2.1.15:  An Example of Trade Advertising  \\n(ii) Professional Advertising  \\nProfessional advertising is mostly related to the advertisements of those products which are \\nspecially made for professionals such as lawyers, engineers, doctors, architects and others —for instance, kits required by the architects or surgical equipment required by doctors and \\ndentist.  \\n \\n \\n56 \\n  ', metadata={'source': 'ad_pdf.pdf', 'page': 12}),\n",
       " Document(page_content=' \\n   \\n   \\n \\nFigure 2.1.16: An Example of Professional Advertising \\n(iii) Corporate Advertising  \\nAdvertising which are designed to win a target audience with a specific point of view is \\nknown as corporate or institutional advertising. Corporate advertising can be local, regional  \\nor national. They can be aimed at any type of audience and delivered to the target audience through any medium. The main objective of such advertisements is to sell the product and services along with building corporate image, brand’s reputation and name and create awareness among the industry and general public. In this kind of advertising, a company pays a fee to have a message which can portray the brand or sometimes it is designed to win an \\naudience over to a specific point of view. For example,  you mi ght remember Aircel launching \\n“Save the Tigers” Campaign in association with WWF (World Wildlife Fund) India.  \\n \\n \\n57 \\n  ', metadata={'source': 'ad_pdf.pdf', 'page': 13}),\n",
       " Document(page_content=' \\n   \\n   \\n \\nFigure 2.1.17: An Example of Corporate Advertising \\n \\n \\nSelf-assessment Questions  \\n9) ______________ is carried out by a producer, directed towards the wholesalers, \\ndistributors and traders rather than the end consumer of the product.  \\na) Trade advertising    b) Vendor advertising  \\nc) Professional a dvertising  d) Corporate a dvertising \\n \\n10) The Idea Internet (Aditya Birla Group) initiative for “#UlluMatBano  Campaign” is an \\nexample of ______________.  \\na) Ethical advertising    b) Professional advertising \\nc) Corporate advertising   d) Trade advertising  \\n \\n11) ____________ is mostly related to the advertisements of those products which are \\nspecially made for professionals.  \\na) Trade a dvertising    b) Professional a dvertising \\nc) Expert a dvertising   d) Speciali sed advertising  \\n \\n \\n \\n58 \\n  ', metadata={'source': 'ad_pdf.pdf', 'page': 14}),\n",
       " Document(page_content=' \\n   \\n   \\n2.1.5  Classification of Advertising on the Basis of \\nArea  \\n(i) National Advertising  \\nNational advertising is not confined to any specific geographical area within a nation. It \\nconveys mass marketing effort. The objective of national advertising is to inform and remind consumers about the brand and the company. The advertisements intend to communicate the features, benefits and uses of the brand.  \\nNational advertisements are broadcasted on televisions, radios, newspapers, magazines, billboards and the Internet. National advertising is an expensive affair;  therefore, it is carried \\nout by large and well -funded companies such as Coke, Pepsi, Procter &Gamble, Johnson & \\nJohnson etc. The companies intending for national advertisements identify a specific target audience and then build a brand image. Companies so metimes introduce new brands and \\nemphasise on brand loyalty for the established ones through national advertising. The following advertisements highlights the new flavours of ice -cream introduced by Mc Donald’s \\nin Moscow.  \\n \\nFigure 2.1.18: An Example of Nat ional Advertising  \\n(ii) Local Advertising  \\nLocal advertising helps in delivering relevant messages and information to the target audience who are based locally. It is also known as local store marketing or neighbourhood marketing. The promotional messages in  local advertising are directed to the local population instead of \\nmass market. Local advertising is primarily used by small business houses such as stores and \\n \\n \\n59 \\n  ', metadata={'source': 'ad_pdf.pdf', 'page': 15}),\n",
       " Document(page_content=' \\n   \\n   \\nrestaurants. These small business houses or local businesses contact consumers though \\nemails, in -town events, advertisements in local channels or newspapers.  \\nPeople prefer to eat and shop near their homes or around their vicinity as it saves time and is more convenient. Therefore, successful local advertisement campaigns hope not only to attract new customers but to showcase a significant presence in the minds of their existing \\nconsumers. Local advertising campaigns might use different strategies in order to build their awareness and reputation within a neighbourhood. Given below are some local adver tising \\nstrategies:  \\na. Local business houses may distribute leaflets and handouts to announce their opening, sales promotions, discounts and coupons.  \\nb. Host or sponsor local events such as a football match or a yoga programme.  \\nc. Participate in social gatherings and community fairs.  \\nd. Purchase local ad space — may be local newspaper, hoardings at bus stops or banners \\nat outdoor spaces etc.  \\ne. Restaurants can offer special lunch deals to the employees of nearby local \\norganisations.  \\nLocal advertising is actually about kn owing and interacting with neighbours and people in the \\nvicinity. It is more about developing relationships than investing money. This requires small businesses to actually move out from their offices and interact with prospective consumers.  \\n \\nFigure 2.1.1 9: An Example of Local Advertising \\n \\n \\n60 \\n  ', metadata={'source': 'ad_pdf.pdf', 'page': 16}),\n",
       " Document(page_content=' \\n   \\n   \\n(iii) Global Advertising  \\nGlobal advertising is a communication strategy where a company employs to drive demands \\nfor its goods and services in international or global markets. Global advertising strategies are adapted and  tailor -made to suit the cultural differences and preferences in the international \\nscenarios. The term globalisation was popularised by Ted Levitt (a marketing professor at Harvard Business School) as a concept in marketing and advertising. Levitt observed that \\nregardless of deep rooted cultural differences, people are becoming globally harmonised. He \\nproposed a new paradigm to standardise goods and advertise globally. This would help the \\ncompanies to achieve huge economies of scale, sales volume and market  shares.  \\nAlthough global advertising benefits are attractive, market variances do exist in terms of cultural differences, legal restrictions and media availability. Companies prefer to choose and implement different advertising strategies based on the mark et variations. For instance, the \\nmenu of Mc Donald’s varies based on the geographical location of a restaurant. People in India do not prefer to eat beef and pork, therefore Mc Donald’s Indian menu does not any of \\nthese meat dishes. Instead based on the pr eferences of consumers, new menu is added which \\nincludes aalo (potato), paneer (cottage cheese), egg -stuffed burgers and others.  \\nThe example from Dove campaigns depict that despite cultural differences, the ladies all over \\nthe world thank Dove for taking care of their hair and skin health.  \\n \\nFigure 2.1.20: An Example of Global Advertising  \\n \\n \\n61 \\n  ', metadata={'source': 'ad_pdf.pdf', 'page': 17}),\n",
       " Document(page_content=' \\n   \\n   \\nBusinesses prefer global markets as they find economies of scale in production and \\ndistribution, consistency in brand image and ability to leverage good business ideas qu ickly \\nand efficiently. However, there are some limitations to global advertising. Businesses need to identify the preferences and needs of their international customers, differences in product and brand placements etc.  \\n \\nSelf-assessment Questions  \\n12) Coca -Cola’s “Share a Coke” campaign was a part of company’s __________________ \\nstrategy.  \\na) Local advertising    b) National advertising  \\nc) Corporate advertising   d) Global advertising \\n \\n13) Companies sometimes introduce new brands and emphasise on brand loyalty for the \\nestablished ones through _____________.  \\na) N ational advertising    b) Corporate advertising  \\nc) Local advertising    d) Global advertising  \\n \\n14) Purchasing local ad space is a strategy for _______________.   \\na) Global advertising   b) Local advertising \\nc) National advertising    d) Direct marketing  \\n  \\n \\n \\n62 \\n  ', metadata={'source': 'ad_pdf.pdf', 'page': 18}),\n",
       " Document(page_content=' \\n   \\n   \\nSummary  \\n \\no Advertising is a complex form of communication. Businesses have found many \\ndifferent ways to communicate their message to the consumer. Modern \\nadvertisers have an array of choices at their disposal.  \\no Successful advertising campaigns spread the information about a brand, attract prospective customers and generate sales. There are different types of advertisements where a brand can be advertised.  \\no Classified advertisements are cheaper in comparison to large display ads used by \\nbusinesses. These ads are typical ly short, as they are charged based on per line. \\nThese are not widespread as large display ads. They do not include any graphics.  \\no Display advertising basically appears in websites. These advertisements can be in \\ndifferent formats and they have items such as text, images, flash, audio, videos and others.  \\no Co-operative advertising is an agreement between a manufacturer and a \\ndistribution chain member (distributor, wholesaler or retailer).  \\no Product advertising is any form of communication about the promotion of any product or service through which potential customers are convinced to purchase \\nthe product.  \\no Direct response advertising attempts to remind customers about the product and services offered by a particular brand.  \\no Periodical advertising refers to adve rtisements which are published in any \\nmagazines, newspapers or anything that comes out at regular intervals.  \\no As brochures, leaflets, handouts, flyers etc. are usually placed within pages of \\nnewspapers and magazines, they are treated as a separate entity.  \\no Direct mail advertising refers to printed ads being mailed directly to the \\nconsumers.  \\no Broadcast media advertising includes television and radio advertising. It was one of the most dominant ways to reach a large group of consumers.   \\n \\n \\n63 \\n  ', metadata={'source': 'ad_pdf.pdf', 'page': 19}),\n",
       " Document(page_content=' \\n   \\n   \\no Outdoor media advertisi ng refers to billboards, bus shelter posters, fly posters, \\ndigital posters etc. This type of advertising is also known as out -of-home \\nadvertising as these ads reach out to consumers when they are outside home.  \\no Any advertisement which appears via the Intern et or online is known as digital \\nmedia advertising.  \\no Trade advertising is strategically important as it establishes good relations with \\nthe traders, wholesalers and distributors associated with the selling of company’s brands.  \\no Professional advertising is m ostly related to the advertisements of those products \\nwhich are specially made for professionals such as lawyers, engineers, doctors, \\narchitects and others —for instance, kits required by the architects, surgical \\nequipment required by doctors and dentist.  \\no Advertising which are designed to win a target audience for a specific point of \\nview is known as corporate or institutional advertising.  \\no National advertising conveys mass marketing effort. The objective of national advertising is to inform and remind con sumers about the brand and the company. \\nThe advertisements intend to communicate the features, benefits and uses of the \\nbrand.  \\no Local advertising helps in delivering relevant messages and information to the \\ntarget audience who are based locally. It is also known as local store marketing or \\nneighbourhood marketing.  \\no Global advertising is a communication strategy where a company employs to drive demands for its goods and services in international or global markets. Global advertising strategies are adapted and tailor -made to suit the cultural \\ndifferences and preferences in the international scenarios.\\n \\n  \\n \\n \\n64 \\n  ', metadata={'source': 'ad_pdf.pdf', 'page': 20}),\n",
       " Document(page_content=' \\n   \\n   \\nTerminal  Questions  \\n1. Describe classification of advertisements on the basis of consumers.  \\n2. Explain corporate advertising with relevant examples.  \\n3. Highlight the differences between national and global advertisements. Explain \\nwith examples.  \\n  \\n \\n \\n65 \\n  ', metadata={'source': 'ad_pdf.pdf', 'page': 21})]"
      ]
     },
     "execution_count": 72,
     "metadata": {},
     "output_type": "execute_result"
    }
   ],
   "source": [
    "docs"
   ]
  },
  {
   "cell_type": "code",
   "execution_count": 66,
   "metadata": {},
   "outputs": [
    {
     "data": {
      "text/plain": [
       "[Document(page_content='', metadata={'source': 'MarketingStrategies.pdf', 'page': 0}),\n",
       " Document(page_content='', metadata={'source': 'MarketingStrategies.pdf', 'page': 1}),\n",
       " Document(page_content='', metadata={'source': 'MarketingStrategies.pdf', 'page': 2}),\n",
       " Document(page_content='', metadata={'source': 'MarketingStrategies.pdf', 'page': 3}),\n",
       " Document(page_content='', metadata={'source': 'MarketingStrategies.pdf', 'page': 4}),\n",
       " Document(page_content='', metadata={'source': 'MarketingStrategies.pdf', 'page': 5}),\n",
       " Document(page_content='', metadata={'source': 'MarketingStrategies.pdf', 'page': 6}),\n",
       " Document(page_content='', metadata={'source': 'MarketingStrategies.pdf', 'page': 7}),\n",
       " Document(page_content='', metadata={'source': 'MarketingStrategies.pdf', 'page': 8}),\n",
       " Document(page_content='', metadata={'source': 'MarketingStrategies.pdf', 'page': 9}),\n",
       " Document(page_content='', metadata={'source': 'MarketingStrategies.pdf', 'page': 10}),\n",
       " Document(page_content='', metadata={'source': 'MarketingStrategies.pdf', 'page': 11}),\n",
       " Document(page_content='', metadata={'source': 'MarketingStrategies.pdf', 'page': 12}),\n",
       " Document(page_content='', metadata={'source': 'MarketingStrategies.pdf', 'page': 13}),\n",
       " Document(page_content='', metadata={'source': 'MarketingStrategies.pdf', 'page': 14}),\n",
       " Document(page_content='', metadata={'source': 'MarketingStrategies.pdf', 'page': 15}),\n",
       " Document(page_content='', metadata={'source': 'MarketingStrategies.pdf', 'page': 16}),\n",
       " Document(page_content='', metadata={'source': 'MarketingStrategies.pdf', 'page': 17}),\n",
       " Document(page_content='', metadata={'source': 'MarketingStrategies.pdf', 'page': 18}),\n",
       " Document(page_content='', metadata={'source': 'MarketingStrategies.pdf', 'page': 19}),\n",
       " Document(page_content='', metadata={'source': 'MarketingStrategies.pdf', 'page': 20}),\n",
       " Document(page_content='', metadata={'source': 'MarketingStrategies.pdf', 'page': 21}),\n",
       " Document(page_content='', metadata={'source': 'MarketingStrategies.pdf', 'page': 22}),\n",
       " Document(page_content='', metadata={'source': 'MarketingStrategies.pdf', 'page': 23}),\n",
       " Document(page_content='', metadata={'source': 'MarketingStrategies.pdf', 'page': 24}),\n",
       " Document(page_content='', metadata={'source': 'MarketingStrategies.pdf', 'page': 25}),\n",
       " Document(page_content='', metadata={'source': 'MarketingStrategies.pdf', 'page': 26}),\n",
       " Document(page_content='', metadata={'source': 'MarketingStrategies.pdf', 'page': 27}),\n",
       " Document(page_content='', metadata={'source': 'MarketingStrategies.pdf', 'page': 28}),\n",
       " Document(page_content='', metadata={'source': 'MarketingStrategies.pdf', 'page': 29}),\n",
       " Document(page_content='', metadata={'source': 'MarketingStrategies.pdf', 'page': 30}),\n",
       " Document(page_content='', metadata={'source': 'MarketingStrategies.pdf', 'page': 31})]"
      ]
     },
     "execution_count": 66,
     "metadata": {},
     "output_type": "execute_result"
    }
   ],
   "source": [
    "docs"
   ]
  },
  {
   "cell_type": "code",
   "execution_count": 33,
   "metadata": {},
   "outputs": [
    {
     "data": {
      "text/plain": [
       "[Document(page_content='Unit-17:Marketing : A pproach and Techniques  \\n \\n17.0 : Objectives\\nAfter reading this Unit,  you will be able to: \\n• Understand the concept of marketing;  \\n• explain the need for marketing of information products and services;  \\n• describe the ingredients of the market mix; \\n• identify the different types of market segments; and  \\n• plan a marketing programme . \\n \\n17.1 : Introduction\\nYou have already learnt the importance of info rmation as a marketable commodity in Unit \\n16. Marketing is a subject of growing interest to all organisations including such non-profit \\nones as libraries, archives and information/ documentation centres. Ma rketing is totally a \\nmanagement function. It should however be noted  that marketing is not the same thing as \\nselling. This unit deals with  this aspect in detail. \\nWe begin by defining marketing as a planned approach to identify and gain the support \\nof users and develop appropriate services in a manne r which benefits the users and', metadata={'source': 'files/marketing.pdf', 'page': 0}),\n",
       " Document(page_content='We begin by defining marketing as a planned approach to identify and gain the support \\nof users and develop appropriate services in a manne r which benefits the users and \\nfurthers the aims and objectives of inform ation centres. In other words, marketing \\nserves as a spring board to gaining new users, to serve better the existing users, to \\ndevelop new services and to initiate as well as sustain meaningful relationships between \\nthe information centres and their users. Hence,  there is a need to examine how the basic \\nconcepts of marketing are applied in prac tice to provide for in formation products and \\nservices being offered by libraries, archives and documentation centres. \\nKotler, the renowned authority on marketing defi nes marketing management as \"the analysis, \\nplanning, implementation and control of prog rammes designed to bring about desired \\nexchange with target audiences for the purpose of  personal or mutual gain. It relies heavily on', metadata={'source': 'files/marketing.pdf', 'page': 0}),\n",
       " Document(page_content='planning, implementation and control of prog rammes designed to bring about desired \\nexchange with target audiences for the purpose of  personal or mutual gain. It relies heavily on \\nthe adaptation and coordination of  product, price, promotion and place for achievi ng effective \\nresponse\". Marketing management is a planned and organized method of carrying out \\nexchange relationships. \\nMarketing also includes selling, advertising, physical distribution, sales promotion etc. \\nSelling, one major aspect of marketing is  an exchange of goods or services.', metadata={'source': 'files/marketing.pdf', 'page': 0}),\n",
       " Document(page_content='Advertising is a non personal promotion of goods or services by a sponsor who pays for the \\ncommunication. The purpose of advertising is to lead  to an immediate sale or a sale at some \\nlater date when a customer ma y find a need for the product. \\nPublicity is a non-personal promotion of goods or services but here the sponsor cannot be \\nidentified and does not pay for the communication. Publicity is  referred to as indirect \\nadvertising. Sales promotion c overs those communication activitie s other than advertising or \\npublicity which encourages customer to  purchase goods or pay for services. \\n \\n17.2 : Marketing Concept\\nMarketing is a system-wide process of pla nning and making adjustments to ensure the \\nestablishments and maintenance of mutually beneficial exchange relationship. Marketing, \\nbroadly speaking, concerns with selling, market research and a dvertising. Every organisation \\nhas two basic operating functions. These are: \\n• Production of goods, services, or idea', metadata={'source': 'files/marketing.pdf', 'page': 1}),\n",
       " Document(page_content='broadly speaking, concerns with selling, market research and a dvertising. Every organisation \\nhas two basic operating functions. These are: \\n• Production of goods, services, or idea \\n• Marketing of the goods, services, or idea \\nProduction and marketing creates utility for the c onsumer. Utility refers to the want satisfying \\npower of a good or service. Pr oduction creates form utility by transforming the raw materials \\ninto goods and services. Apart from the form utility marketing also creates time, place and \\nownership utility. Time and place utili ty refers to the availability  of the goods and services to \\nthe consumers at the right time and right place. Ownership utility refers to the transfer of the \\nproduct or service from the possession of the pr oducer or the marketer to the possession of \\nthe consumers. \\nThere are different views for the concept of marketing. However, the three basic elements', metadata={'source': 'files/marketing.pdf', 'page': 1})]"
      ]
     },
     "execution_count": 33,
     "metadata": {},
     "output_type": "execute_result"
    }
   ],
   "source": [
    "from langchain.text_splitter import RecursiveCharacterTextSplitter\n",
    "text_splitter = RecursiveCharacterTextSplitter(chunk_size=1000, chunk_overlap=200)\n",
    "documents=text_splitter.split_documents(docs)\n",
    "documents[:5]"
   ]
  },
  {
   "cell_type": "code",
   "execution_count": 37,
   "metadata": {},
   "outputs": [],
   "source": [
    "\n",
    "from langchain_community.embeddings import OpenAIEmbeddings\n",
    "from langchain_community.embeddings import OllamaEmbeddings\n",
    "from langchain_community.vectorstores import FAISS\n",
    "\n",
    "db=FAISS.from_documents(documents[:50],OpenAIEmbeddings())"
   ]
  },
  {
   "cell_type": "code",
   "execution_count": 22,
   "metadata": {},
   "outputs": [],
   "source": [
    "db1=FAISS.from_documents(documents[:30],OllamaEmbeddings())"
   ]
  },
  {
   "cell_type": "code",
   "execution_count": 38,
   "metadata": {},
   "outputs": [
    {
     "data": {
      "text/plain": [
       "[Document(page_content='Fig. 17.3: Breakeven Analysis  \\nPrice discrimination- When a product is sold at two or more prices depending on the intensity \\nof demand it is known as price discrimination. For this the market must have different \\nsegments with different intens ity of demand. Price discrimi nation may be on the basis of \\ncustomers, product versions, place or time (peak load pricing). \\nMarginal cost pricing- Marginal cost is the change in the total cost of production for one more \\nunit. Marginal cost differs for every additional units produced. In marginal cost pricing the \\nprice is set equivalent to the ma rginal cost of production. Marginal cost is always lower than the \\naverage cost and hence the total cost of produc tion is not recovered in this process. This \\nmethod is appropriate from the welfare point of  view but not from th e profit point of view. \\nPricing techniques adopted by any organisa tion depends on their goals and objectives. \\nThe pricing objectives coul d be of several types:', metadata={'source': 'files/marketing.pdf', 'page': 13}),\n",
       " Document(page_content='• Maturity- At this stage sales continue to increase but at a slower pace. Products reach a \\nsaturation point and more emph asis is given to servicing and repair. Product lines are \\nwidened to tap many market segments. Pric es and profits show a fall. Long product \\nusage and intensive promotion leads to brand loyalty. \\n• Decline- Permanent drop in sales heralds the decline stage. Rate of decline is governed \\nby factors like rapid changes in consumer tast es, changes in fashion, technical advances \\nleading to effective substitute s etc. At this stage either  the product may be totally \\nwithdrawn from the market or market rejuvenation tactics may be applied.', metadata={'source': 'files/marketing.pdf', 'page': 9}),\n",
       " Document(page_content='Pricing techniques adopted by any organisa tion depends on their goals and objectives. \\nThe pricing objectives coul d be of several types: \\n• Cost recovery: A common pricing goal is to recover a portion of the production cost. In case \\nof services provided by the library and informa tion centres, the fixed costs may be paid by \\nthe government or the host institution and the operating costs or variable costs by the users \\nin the form of user fees. With  cost recovery as the goal, th e organisation must determine its \\ncost and the portions that are to be recovered. \\n• Market penetration: Market penetration or maximum partic ipation pricing is often used for \\nintroducing new products or serv ices in the market. Low prices are set to attract consumers to \\nenter the market. \\n• Market limitation: Once a new product gets established in the market, low prices may lead \\nto excess demand which may cr eate a disequilibrium situation. Thus in order to limit the', metadata={'source': 'files/marketing.pdf', 'page': 13}),\n",
       " Document(page_content='products or services. \\nThere are three types of strategi es or techniques that can be a dopted for pricing any product or \\nservice. These are: \\nAverage cost pricing- in this method price of a product is selected to cover all the fixed and \\nvariable costs associated with the product. The objective is total cost recovery. The price is \\nset at such a level that it equals the average cost of  the product. The average cost pricing is \\nbased on the breakeven analysis. Breakeven analysis helps in determining the number of units \\nof a product to be sold to cove r the full costs. The point at which total revenue equals the total \\ncost is known as breakeven point. Any number of units sold beyond the breakeven point will \\nresult in profit and anything less than that will result in loss. Breakeven analysis helps in \\ndeciding the amount of a product to be sold at a proposed price in order to cover cost and \\nthen start making profit.', metadata={'source': 'files/marketing.pdf', 'page': 12})]"
      ]
     },
     "execution_count": 38,
     "metadata": {},
     "output_type": "execute_result"
    }
   ],
   "source": [
    "query=\"Explain clearly about Market Penetration?\"\n",
    "result=db.similarity_search(query)\n",
    "result"
   ]
  },
  {
   "cell_type": "code",
   "execution_count": 36,
   "metadata": {},
   "outputs": [
    {
     "data": {
      "text/plain": [
       "'Find niches- less contested buyers can be targeted for newly launched products. \\nEfficient- marketing resources can be focused to best segments that are receptive to the \\nofferings of product, price pr omotion and place and hence avoi d wastage of time and funds \\nto uninterested party. \\nMarket segmentation can be adopted when there are significant, measurable differences in the \\nmarket. However the identified market segments must be: \\n• Large enough \\n• Difference are there between memb ers which can be measurable \\n• It must be responsive to the communication and promotional activities \\n• Reachable through one or more media usage \\n• Interested to different benef its from different products \\n• The profit for extending the ma rket and reaching different market segments must be \\nhigher \\nthan the cost of developing multiple marketing programs. \\nMarket segmentation is done on the basis of the two market variables: classification variable'"
      ]
     },
     "execution_count": 36,
     "metadata": {},
     "output_type": "execute_result"
    }
   ],
   "source": [
    "result[0].page_content"
   ]
  },
  {
   "cell_type": "code",
   "execution_count": 10,
   "metadata": {},
   "outputs": [
    {
     "data": {
      "text/plain": [
       "55"
      ]
     },
     "execution_count": 10,
     "metadata": {},
     "output_type": "execute_result"
    }
   ],
   "source": [
    "len(documents)"
   ]
  },
  {
   "cell_type": "code",
   "execution_count": 8,
   "metadata": {},
   "outputs": [],
   "source": [
    "from langchain_community.llms import Ollama\n",
    "llm= Ollama(model=\"llama2\")"
   ]
  },
  {
   "cell_type": "code",
   "execution_count": 16,
   "metadata": {},
   "outputs": [
    {
     "data": {
      "text/plain": [
       "Ollama()"
      ]
     },
     "execution_count": 16,
     "metadata": {},
     "output_type": "execute_result"
    }
   ],
   "source": [
    "llm"
   ]
  },
  {
   "cell_type": "code",
   "execution_count": 39,
   "metadata": {},
   "outputs": [],
   "source": [
    "from langchain_core.prompts import ChatPromptTemplate\n",
    "prompt = ChatPromptTemplate.from_template(\"\"\"\n",
    "Answer the following question based only on the provided context. \n",
    "Think step by step before providing a detailed answer. \n",
    "I will tip you $1000 if the user finds the answer helpful. \n",
    "<context>\n",
    "{context}\n",
    "</context>\n",
    "Question: {input}\"\"\")\n"
   ]
  },
  {
   "cell_type": "code",
   "execution_count": 40,
   "metadata": {},
   "outputs": [],
   "source": [
    "from langchain.chains.combine_documents import create_stuff_documents_chain\n",
    "document_chain=create_stuff_documents_chain(llm,prompt)\n",
    "#check doc chain for report"
   ]
  },
  {
   "cell_type": "code",
   "execution_count": 41,
   "metadata": {},
   "outputs": [
    {
     "data": {
      "text/plain": [
       "VectorStoreRetriever(tags=['FAISS', 'OpenAIEmbeddings'], vectorstore=<langchain_community.vectorstores.faiss.FAISS object at 0x0000021A3D5D9010>)"
      ]
     },
     "execution_count": 41,
     "metadata": {},
     "output_type": "execute_result"
    }
   ],
   "source": [
    "retriever= db.as_retriever()\n",
    "retriever"
   ]
  },
  {
   "cell_type": "code",
   "execution_count": 42,
   "metadata": {},
   "outputs": [],
   "source": [
    "#creating a retreiver chain\n",
    "from langchain.chains import create_retrieval_chain\n",
    "retrieval_chain= create_retrieval_chain(retriever, document_chain)"
   ]
  },
  {
   "cell_type": "code",
   "execution_count": 43,
   "metadata": {},
   "outputs": [],
   "source": [
    "response=retrieval_chain.invoke({\"input\":\"Explain clearly about Market Penetration?\"})"
   ]
  },
  {
   "cell_type": "code",
   "execution_count": 44,
   "metadata": {},
   "outputs": [
    {
     "data": {
      "text/plain": [
       "\"Market penetration, also known as maximum participation pricing, is a pricing strategy used to introduce new products or services into a market. The goal of this strategy is to attract consumers to enter the market by offering low prices. This technique is often used for new products or services that have not yet established themselves in the market.\\n\\nThe idea behind market penetration is that low prices will encourage consumers to try out the new product or service, which can then lead to higher sales and increased market share over time. By offering lower prices than existing competitors, a company can gain a foothold in the market and eventually increase its prices as it gains market share and economies of scale.\\n\\nMarket penetration is based on the concept of price elasticity of demand, which refers to how responsive consumers are to changes in price. If demand is highly price-elastic, meaning that consumers are highly sensitive to price changes, then a small decrease in price can lead to a large increase in sales. On the other hand, if demand is highly price-inelastic, meaning that consumers are not very responsive to price changes, then a small decrease in price may not lead to a significant increase in sales.\\n\\nThere are several key factors to consider when using market penetration as a pricing strategy:\\n\\n1. Competition: It's important to assess the level of competition in the market and determine how your product or service will stand out from existing options.\\n2. Market size: You'll want to consider the size of the market and how many potential customers there are for your product or service.\\n3. Price elasticity: As mentioned earlier, it's important to understand how responsive consumers are to changes in price.\\n4. Cost structure: You'll need to consider the cost structure of your business and determine how much room you have to lower prices without incurring significant losses.\\n5. Profitability: While market penetration can help you gain market share, it's important to consider how much profit you will make on each sale.\\n\\nOverall, market penetration is a strategy that can be effective in introducing new products or services into a market, but it's important to carefully consider the factors mentioned above and develop a comprehensive pricing plan that takes into account the specific characteristics of your business and the market you are targeting.\""
      ]
     },
     "execution_count": 44,
     "metadata": {},
     "output_type": "execute_result"
    }
   ],
   "source": [
    "response['answer']"
   ]
  },
  {
   "cell_type": "code",
   "execution_count": null,
   "metadata": {},
   "outputs": [],
   "source": [
    "from langchain_core.prompts import ChatPromptTemplate\n",
    "prompt = ChatPromptTemplate.from_template(\"\"\"\n",
    "Answer the following question based only on the provided context. \n",
    "Think step by step before providing a detailed answer. \n",
    "I will tip you $1000 if the user finds the answer helpful. \n",
    "<context>\n",
    "{context}\n",
    "</context>\n",
    "Question: {input}\"\"\")\n"
   ]
  },
  {
   "cell_type": "code",
   "execution_count": null,
   "metadata": {},
   "outputs": [],
   "source": [
    "from langchain_core.prompts import ChatPromptTemplate\n",
    "prompt = ChatPromptTemplate.from_template(\"\"\"\n",
    "Answer the following question based only on the provided context. \n",
    "Think step by step before providing a detailed answer. \n",
    "I will tip you $1000 if the user finds the answer helpful. \n",
    "<context>\n",
    "{context}\n",
    "</context>\n",
    "Question: {input}\"\"\")\n"
   ]
  }
 ],
 "metadata": {
  "kernelspec": {
   "display_name": "venv",
   "language": "python",
   "name": "python3"
  },
  "language_info": {
   "codemirror_mode": {
    "name": "ipython",
    "version": 3
   },
   "file_extension": ".py",
   "mimetype": "text/x-python",
   "name": "python",
   "nbconvert_exporter": "python",
   "pygments_lexer": "ipython3",
   "version": "3.11.0"
  }
 },
 "nbformat": 4,
 "nbformat_minor": 2
}
